{
 "cells": [
  {
   "cell_type": "code",
   "execution_count": 2,
   "metadata": {},
   "outputs": [],
   "source": [
    "from pyspark.sql import SparkSession\n",
    "from pyspark.sql.functions import *"
   ]
  },
  {
   "cell_type": "code",
   "execution_count": 3,
   "metadata": {},
   "outputs": [],
   "source": [
    "#Create a Spark Application\n",
    "spark = SparkSession.builder.appName(\"groupbyagg\").getOrCreate()"
   ]
  },
  {
   "cell_type": "code",
   "execution_count": 4,
   "metadata": {},
   "outputs": [],
   "source": [
    "#Load the athlete_events.csv from Local System\n",
    "athlete_events = spark.read.csv('file:///home/hduser/demo_1/athlete_events.csv',sep=',',inferSchema=True,header=True)"
   ]
  },
  {
   "cell_type": "code",
   "execution_count": 5,
   "metadata": {},
   "outputs": [],
   "source": [
    "athlete_events.createOrReplaceTempView(\"athlete_events_view\")"
   ]
  },
  {
   "cell_type": "code",
   "execution_count": 8,
   "metadata": {},
   "outputs": [],
   "source": [
    "#Change your DB and table name as per your requirements...\n",
    "MySQL_URL = \"jdbc:mysql://localhost:3306/sqoop\"\n",
    "MySQL_driver = \"com.mysql.jdbc.Driver\"\n",
    "MySQL_table = \"athlete_events_MySQL\"\n",
    "user = \"root\"\n",
    "password = \"password\""
   ]
  },
  {
   "cell_type": "code",
   "execution_count": 9,
   "metadata": {},
   "outputs": [],
   "source": [
    "#Write a spark DF into a MySQL table.\n",
    "athlete_events.write.format('jdbc').options(url=MySQL_URL,driver=MySQL_driver,dbtable=MySQL_table,user=user,password=password).mode('overwrite').save()"
   ]
  },
  {
   "cell_type": "code",
   "execution_count": 10,
   "metadata": {},
   "outputs": [],
   "source": [
    "#Read the data from MySQL table and store it in a spark DF.\n",
    "Read_From_MySQL = spark.read.format(\"jdbc\").option(\"url\", MySQL_URL).option(\"driver\", MySQL_driver).option(\"dbtable\", MySQL_table).option(\"user\", user).option(\"password\", password).load()\n"
   ]
  },
  {
   "cell_type": "code",
   "execution_count": 11,
   "metadata": {},
   "outputs": [
    {
     "name": "stdout",
     "output_type": "stream",
     "text": [
      "+-----+--------------------+---+---+------+------+--------------+---+-----------+----+------+---------+----------+--------------------+-----+\n",
      "|   ID|                Name|Sex|Age|Height|Weight|          Team|NOC|      Games|Year|Season|     City|     Sport|               Event|Medal|\n",
      "+-----+--------------------+---+---+------+------+--------------+---+-----------+----+------+---------+----------+--------------------+-----+\n",
      "|25734|Muriel Evelyn Dav...|  F| 19|   160|    50| United States|USA|1960 Summer|1960|Summer|     Roma|Gymnastics|Gymnastics Women'...|   NA|\n",
      "|    1|           A Dijiang|  M| 24|   180|    80|         China|CHN|1992 Summer|1992|Summer|Barcelona|Basketball|Basketball Men's ...|   NA|\n",
      "|    2|            A Lamusi|  M| 23|   170|    60|         China|CHN|2012 Summer|2012|Summer|   London|      Judo|Judo Men's Extra-...|   NA|\n",
      "|    3| Gunnar Nielsen Aaby|  M| 24|    NA|    NA|       Denmark|DEN|1920 Summer|1920|Summer|Antwerpen|  Football|Football Men's Fo...|   NA|\n",
      "|    4|Edgar Lindenau Aabye|  M| 34|    NA|    NA|Denmark/Sweden|DEN|1900 Summer|1900|Summer|    Paris|Tug-Of-War|Tug-Of-War Men's ...| Gold|\n",
      "+-----+--------------------+---+---+------+------+--------------+---+-----------+----+------+---------+----------+--------------------+-----+\n",
      "only showing top 5 rows\n",
      "\n"
     ]
    }
   ],
   "source": [
    "Read_From_MySQL.show(5)"
   ]
  },
  {
   "cell_type": "code",
   "execution_count": null,
   "metadata": {},
   "outputs": [],
   "source": []
  }
 ],
 "metadata": {
  "kernelspec": {
   "display_name": "Python 3",
   "language": "python",
   "name": "python3"
  },
  "language_info": {
   "codemirror_mode": {
    "name": "ipython",
    "version": 3
   },
   "file_extension": ".py",
   "mimetype": "text/x-python",
   "name": "python",
   "nbconvert_exporter": "python",
   "pygments_lexer": "ipython3",
   "version": "3.4.3"
  }
 },
 "nbformat": 4,
 "nbformat_minor": 2
}
